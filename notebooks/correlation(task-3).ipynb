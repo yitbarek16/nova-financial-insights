{
 "cells": [
  {
   "cell_type": "markdown",
   "id": "4d3407eb-0963-4d73-b869-2b0a756b7ca6",
   "metadata": {},
   "source": [
    "# Task-3 Correlation between news and stock movement"
   ]
  },
  {
   "cell_type": "markdown",
   "id": "44e8b1d3-3a5d-4145-a8dc-e3064da744c7",
   "metadata": {},
   "source": [
    "## Prepare the Data"
   ]
  },
  {
   "cell_type": "markdown",
   "id": "1762919b-fa30-4965-a915-3ed9e7bac050",
   "metadata": {},
   "source": [
    "### Load All Datasets"
   ]
  },
  {
   "cell_type": "code",
   "execution_count": 1,
   "id": "9eac37c3-1ab7-4f16-ab20-f8e6956f3f39",
   "metadata": {},
   "outputs": [],
   "source": [
    "import pandas as pd\n",
    "\n",
    "# Load news data \n",
    "news_df = pd.read_csv('raw_analyst_ratings.csv', parse_dates=['date'])\n",
    "\n",
    "# Load all stock datasets\n",
    "tickers = ['AAPL', 'AMZN', 'GOOG', 'META', 'MSFT', 'NVDA', 'TSLA']\n",
    "stocks = {ticker: pd.read_csv(f'{ticker}_historical_data.csv', parse_dates=['Date'], index_col='Date') \n",
    "          for ticker in tickers}"
   ]
  },
  {
   "cell_type": "code",
   "execution_count": 4,
   "id": "1d8a6f6d-613a-49cc-89b3-74e07f9af21c",
   "metadata": {},
   "outputs": [
    {
     "name": "stdout",
     "output_type": "stream",
     "text": [
      "1407328\n"
     ]
    }
   ],
   "source": [
    "print(len(news_df))"
   ]
  },
  {
   "cell_type": "markdown",
   "id": "98c7ce2e-8eb8-4e32-b73a-5ecc577cd73e",
   "metadata": {},
   "source": [
    "### Prepare Date "
   ]
  },
  {
   "cell_type": "code",
   "execution_count": 3,
   "id": "a862903c-4916-4661-9c31-758096fbb6f0",
   "metadata": {},
   "outputs": [],
   "source": [
    "from dateutil import parser\n",
    "\n",
    "def try_parse_date(x):\n",
    "    try:\n",
    "        return parser.parse(str(x), fuzzy=True).date()  # Keep only date part\n",
    "    except Exception:\n",
    "        return pd.NaT\n",
    "\n",
    "# Apply to the whole column (slow but very flexible)\n",
    "news_df['date'] = news_df['date'].apply(try_parse_date)\n",
    "\n",
    "# Drop only truly unfixable ones\n",
    "news_df = news_df.dropna(subset=['date'])\n"
   ]
  },
  {
   "cell_type": "code",
   "execution_count": 12,
   "id": "f10df220-7e59-4713-aeb0-995d1e40090f",
   "metadata": {},
   "outputs": [],
   "source": [
    "for ticker in stocks:\n",
    "    df = stocks[ticker]\n",
    "    df.index = pd.to_datetime(df.index).map(lambda x: x.date())  # convert index to date only\n",
    "    stocks[ticker] = df\n"
   ]
  },
  {
   "cell_type": "markdown",
   "id": "f885a01a-3937-41b2-bf3e-9d7d0eef5152",
   "metadata": {},
   "source": [
    "## Sentiment Analysis"
   ]
  },
  {
   "cell_type": "code",
   "execution_count": 6,
   "id": "e87434e5-e96d-4240-85a5-94c95d6382c4",
   "metadata": {},
   "outputs": [
    {
     "name": "stderr",
     "output_type": "stream",
     "text": [
      "[nltk_data] Downloading package vader_lexicon to\n",
      "[nltk_data]     C:\\Users\\user\\AppData\\Roaming\\nltk_data...\n",
      "[nltk_data]   Package vader_lexicon is already up-to-date!\n"
     ]
    }
   ],
   "source": [
    "from nltk.sentiment import SentimentIntensityAnalyzer\n",
    "import nltk\n",
    "nltk.download('vader_lexicon')\n",
    "\n",
    "# Initialize sentiment analyzer\n",
    "sia = SentimentIntensityAnalyzer()\n",
    "\n",
    "# Add sentiment scores (VADER's compound score ranges from -1 to 1)\n",
    "news_df['sentiment'] = news_df['headline'].apply(\n",
    "    lambda x: sia.polarity_scores(x)['compound']\n",
    ")\n",
    "\n",
    "# Classify sentiment\n",
    "news_df['sentiment_label'] = pd.cut(\n",
    "    news_df['sentiment'],\n",
    "    bins=[-1, -0.05, 0.05, 1],\n",
    "    labels=['negative', 'neutral', 'positive']\n",
    ")"
   ]
  },
  {
   "cell_type": "markdown",
   "id": "725f1d29-75c9-4d6d-a668-2cf56b276bfb",
   "metadata": {},
   "source": [
    "### Align Dates"
   ]
  },
  {
   "cell_type": "code",
   "execution_count": 13,
   "id": "49ed4ee5-a8e4-436d-8b3a-7178a15746ef",
   "metadata": {},
   "outputs": [],
   "source": [
    "  # Remove time component\n",
    "news_df = news_df.groupby(['date', 'stock']).agg({\n",
    "    'headline': ' '.join,  # Combine headlines per day\n",
    "    'sentiment': 'mean'    # Average sentiment per day\n",
    "}).reset_index()"
   ]
  },
  {
   "cell_type": "markdown",
   "id": "76739622-b89e-42e3-ac12-59b2578ea743",
   "metadata": {},
   "source": [
    "### Calculate Daily Returns for All Stocks"
   ]
  },
  {
   "cell_type": "code",
   "execution_count": 14,
   "id": "e60cdc5b-df86-4f1e-b38a-c9730006a8d4",
   "metadata": {},
   "outputs": [],
   "source": [
    "for ticker in tickers:\n",
    "    stocks[ticker]['Daily_Return'] = stocks[ticker]['Close'].pct_change()"
   ]
  },
  {
   "cell_type": "markdown",
   "id": "55a2ceac-ed6c-47ee-9591-c6e95a9da9ea",
   "metadata": {},
   "source": [
    "### Merge Sentiment with Stock Returns"
   ]
  },
  {
   "cell_type": "code",
   "execution_count": 15,
   "id": "d383fbb1-61eb-4970-ac07-b1acae616184",
   "metadata": {},
   "outputs": [],
   "source": [
    "correlation_results = {}\n",
    "\n",
    "for ticker in tickers:\n",
    "    # Merge news sentiment with stock returns\n",
    "    merged = pd.merge(\n",
    "        news_df[news_df['stock'] == ticker],\n",
    "        stocks[ticker][['Close', 'Daily_Return']],\n",
    "        left_on='date',\n",
    "        right_index=True,\n",
    "        how='inner'\n",
    "    )\n",
    "    \n",
    "    # Calculate correlation\n",
    "    correlation = merged[['sentiment', 'Daily_Return']].corr().iloc[0, 1]\n",
    "    correlation_results[ticker] = correlation"
   ]
  },
  {
   "cell_type": "code",
   "execution_count": 16,
   "id": "bed0c4a9-b6e1-4cfc-b5d6-14ac76daef9a",
   "metadata": {},
   "outputs": [
    {
     "name": "stdout",
     "output_type": "stream",
     "text": [
      "AAPL: 61 matched rows\n",
      "AMZN: 28 matched rows\n",
      "GOOG: 352 matched rows\n",
      "META: 0 matched rows\n",
      "MSFT: 0 matched rows\n",
      "NVDA: 1125 matched rows\n",
      "TSLA: 230 matched rows\n"
     ]
    }
   ],
   "source": [
    "for ticker in tickers:\n",
    "    merged = pd.merge(\n",
    "        news_df[news_df['stock'] == ticker],\n",
    "        stocks[ticker][['Close', 'Daily_Return']],\n",
    "        left_on='date',\n",
    "        right_index=True,\n",
    "        how='inner'\n",
    "    )\n",
    "    print(f\"{ticker}: {len(merged)} matched rows\")\n"
   ]
  },
  {
   "cell_type": "markdown",
   "id": "58929135-de87-40fd-b6a3-0e43312757d1",
   "metadata": {},
   "source": [
    "### Visualize Results"
   ]
  },
  {
   "cell_type": "code",
   "execution_count": 11,
   "id": "4c1869df-393a-4f2a-8203-2c83c7fdfdce",
   "metadata": {},
   "outputs": [
    {
     "data": {
      "image/png": "[encoded data removed]",
      "text/plain": [
       "<Figure size 640x480 with 1 Axes>"
      ]
     },
     "metadata": {},
     "output_type": "display_data"
    }
   ],
   "source": [
    "import matplotlib.pyplot as plt\n",
    "\n",
    "# Plot correlation strengths\n",
    "pd.Series(correlation_results).plot(\n",
    "    kind='barh', \n",
    "    title='Correlation: News Sentiment vs. Next-Day Returns',\n",
    "    color=[('green' if x > 0 else 'red') for x in correlation_results.values()]\n",
    ")\n",
    "plt.axvline(0, color='black', linestyle='--')\n",
    "plt.xlabel('Correlation Strength')\n",
    "plt.show()"
   ]
  },
  {
   "cell_type": "code",
   "execution_count": null,
   "id": "a7722537-89eb-47f6-9c78-a3ea7f73ae6b",
   "metadata": {},
   "outputs": [],
   "source": []
  }
 ],
 "metadata": {
  "kernelspec": {
   "display_name": "Python 3 (ipykernel)",
   "language": "python",
   "name": "python3"
  },
  "language_info": {
   "codemirror_mode": {
    "name": "ipython",
    "version": 3
   },
   "file_extension": ".py",
   "mimetype": "text/x-python",
   "name": "python",
   "nbconvert_exporter": "python",
   "pygments_lexer": "ipython3",
   "version": "3.12.4"
  }
 },
 "nbformat": 4,
 "nbformat_minor": 5
}
