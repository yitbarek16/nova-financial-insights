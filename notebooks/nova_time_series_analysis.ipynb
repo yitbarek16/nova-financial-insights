{
 "cells": [
  {
   "cell_type": "markdown",
   "id": "3881ecab",
   "metadata": {},
   "source": [
    "# Time Series Analysis"
   ]
  },
  {
   "cell_type": "code",
   "execution_count": 2,
   "id": "43484317",
   "metadata": {},
   "outputs": [],
   "source": [
    "import pandas as pd\n",
    "import matplotlib.pyplot as plt\n",
    "from matplotlib.dates import DateFormatter\n",
    "\n",
    "# Load data\n",
    "df = pd.read_csv('C:/raw_analyst_ratings/raw_analyst_ratings.csv', parse_dates=['date'])\n",
    "\n",
    "# Convert date column properly\n",
    "try:\n",
    "    # First try ISO8601 format\n",
    "    df['date'] = pd.to_datetime(df['date'], format='ISO8601')\n",
    "except ValueError:\n",
    "    try:\n",
    "        # Try mixed formats if ISO8601 fails\n",
    "        df['date'] = pd.to_datetime(df['date'], format='mixed')\n",
    "    except ValueError:\n",
    "        # Fallback to inferring with dayfirst\n",
    "        df['date'] = pd.to_datetime(df['date'], dayfirst=True)"
   ]
  },
  {
   "cell_type": "markdown",
   "id": "7911b50f",
   "metadata": {},
   "source": [
    "#### Publication Frequency Analysis"
   ]
  },
  {
   "cell_type": "code",
   "execution_count": 3,
   "id": "c572311a",
   "metadata": {},
   "outputs": [],
   "source": [
    "time_series = df.set_index('date').resample('D').size()"
   ]
  },
  {
   "cell_type": "markdown",
   "id": "777b6e57",
   "metadata": {},
   "source": [
    "#### Identify Top Spikes"
   ]
  },
  {
   "cell_type": "code",
   "execution_count": 4,
   "id": "7b97baa2",
   "metadata": {},
   "outputs": [],
   "source": [
    "spike_threshold = time_series.mean() + 2 * time_series.std()\n",
    "spikes = time_series[time_series > spike_threshold]"
   ]
  },
  {
   "cell_type": "markdown",
   "id": "58f71bb2",
   "metadata": {},
   "source": [
    "#### Hourly Publication Pattern"
   ]
  },
  {
   "cell_type": "code",
   "execution_count": 5,
   "id": "8ab907db",
   "metadata": {},
   "outputs": [],
   "source": [
    "hourly_pattern = df['date'].dt.hour.value_counts().sort_index()"
   ]
  },
  {
   "cell_type": "markdown",
   "id": "b8bfffef",
   "metadata": {},
   "source": [
    "#### Analysis Tables"
   ]
  },
  {
   "cell_type": "code",
   "execution_count": 6,
   "id": "d1126604",
   "metadata": {},
   "outputs": [],
   "source": [
    "publication_stats = pd.DataFrame({\n",
    "    'Time Period': [f\"{df['date'].min().date()} to {df['date'].max().date()}\"],\n",
    "    'Total Articles': [len(df)],\n",
    "    'Average Daily Publications': [round(time_series.mean(), 1)],\n",
    "    'Peak Daily Publications': [time_series.max()],\n",
    "    'Most Active Hour': [hourly_pattern.idxmax()],\n",
    "    'Articles During Peak Hour': [hourly_pattern.max()],\n",
    "    'Significant Spikes (>2σ)': [len(spikes)]\n",
    "})\n",
    "\n",
    "spike_dates = pd.DataFrame({\n",
    "    'Date': spikes.index.date,\n",
    "    'Article Count': spikes.values,\n",
    "    'Deviation from Mean': [f\"+{(x-time_series.mean())/time_series.std():.1f}σ\" for x in spikes.values]\n",
    "})"
   ]
  },
  {
   "cell_type": "markdown",
   "id": "9b696940",
   "metadata": {},
   "source": [
    "#### Display tables"
   ]
  },
  {
   "cell_type": "code",
   "execution_count": 7,
   "id": "487c0f9d",
   "metadata": {},
   "outputs": [
    {
     "name": "stdout",
     "output_type": "stream",
     "text": [
      "PUBLICATION FREQUENCY STATISTICS\n",
      "--------------------------------\n"
     ]
    },
    {
     "data": {
      "text/html": [
       "<style type=\"text/css\">\n",
       "</style>\n",
       "<table id=\"T_c4722\">\n",
       "  <thead>\n",
       "    <tr>\n",
       "      <th id=\"T_c4722_level0_col0\" class=\"col_heading level0 col0\" >Time Period</th>\n",
       "      <th id=\"T_c4722_level0_col1\" class=\"col_heading level0 col1\" >Total Articles</th>\n",
       "      <th id=\"T_c4722_level0_col2\" class=\"col_heading level0 col2\" >Average Daily Publications</th>\n",
       "      <th id=\"T_c4722_level0_col3\" class=\"col_heading level0 col3\" >Peak Daily Publications</th>\n",
       "      <th id=\"T_c4722_level0_col4\" class=\"col_heading level0 col4\" >Most Active Hour</th>\n",
       "      <th id=\"T_c4722_level0_col5\" class=\"col_heading level0 col5\" >Articles During Peak Hour</th>\n",
       "      <th id=\"T_c4722_level0_col6\" class=\"col_heading level0 col6\" >Significant Spikes (>2σ)</th>\n",
       "    </tr>\n",
       "  </thead>\n",
       "  <tbody>\n",
       "    <tr>\n",
       "      <td id=\"T_c4722_row0_col0\" class=\"data row0 col0\" >2009-02-14 to 2020-06-11</td>\n",
       "      <td id=\"T_c4722_row0_col1\" class=\"data row0 col1\" >1407328</td>\n",
       "      <td id=\"T_c4722_row0_col2\" class=\"data row0 col2\" >340.300000</td>\n",
       "      <td id=\"T_c4722_row0_col3\" class=\"data row0 col3\" >2739</td>\n",
       "      <td id=\"T_c4722_row0_col4\" class=\"data row0 col4\" >0</td>\n",
       "      <td id=\"T_c4722_row0_col5\" class=\"data row0 col5\" >1351408</td>\n",
       "      <td id=\"T_c4722_row0_col6\" class=\"data row0 col6\" >93</td>\n",
       "    </tr>\n",
       "  </tbody>\n",
       "</table>\n"
      ],
      "text/plain": [
       "<pandas.io.formats.style.Styler at 0x263a72038f0>"
      ]
     },
     "metadata": {},
     "output_type": "display_data"
    },
    {
     "name": "stdout",
     "output_type": "stream",
     "text": [
      "\n",
      "TOP PUBLICATION SPIKES\n",
      "----------------------\n"
     ]
    },
    {
     "data": {
      "text/html": [
       "<style type=\"text/css\">\n",
       "</style>\n",
       "<table id=\"T_fb3c3\">\n",
       "  <thead>\n",
       "    <tr>\n",
       "      <th id=\"T_fb3c3_level0_col0\" class=\"col_heading level0 col0\" >Date</th>\n",
       "      <th id=\"T_fb3c3_level0_col1\" class=\"col_heading level0 col1\" >Article Count</th>\n",
       "      <th id=\"T_fb3c3_level0_col2\" class=\"col_heading level0 col2\" >Deviation from Mean</th>\n",
       "    </tr>\n",
       "  </thead>\n",
       "  <tbody>\n",
       "    <tr>\n",
       "      <td id=\"T_fb3c3_row0_col0\" class=\"data row0 col0\" >2009-08-10</td>\n",
       "      <td id=\"T_fb3c3_row0_col1\" class=\"data row0 col1\" >1130</td>\n",
       "      <td id=\"T_fb3c3_row0_col2\" class=\"data row0 col2\" >+2.8σ</td>\n",
       "    </tr>\n",
       "    <tr>\n",
       "      <td id=\"T_fb3c3_row1_col0\" class=\"data row1 col0\" >2011-05-23</td>\n",
       "      <td id=\"T_fb3c3_row1_col1\" class=\"data row1 col1\" >930</td>\n",
       "      <td id=\"T_fb3c3_row1_col2\" class=\"data row1 col2\" >+2.1σ</td>\n",
       "    </tr>\n",
       "    <tr>\n",
       "      <td id=\"T_fb3c3_row2_col0\" class=\"data row2 col0\" >2011-07-28</td>\n",
       "      <td id=\"T_fb3c3_row2_col1\" class=\"data row2 col1\" >1042</td>\n",
       "      <td id=\"T_fb3c3_row2_col2\" class=\"data row2 col2\" >+2.5σ</td>\n",
       "    </tr>\n",
       "    <tr>\n",
       "      <td id=\"T_fb3c3_row3_col0\" class=\"data row3 col0\" >2016-04-28</td>\n",
       "      <td id=\"T_fb3c3_row3_col1\" class=\"data row3 col1\" >911</td>\n",
       "      <td id=\"T_fb3c3_row3_col2\" class=\"data row3 col2\" >+2.0σ</td>\n",
       "    </tr>\n",
       "    <tr>\n",
       "      <td id=\"T_fb3c3_row4_col0\" class=\"data row4 col0\" >2016-08-04</td>\n",
       "      <td id=\"T_fb3c3_row4_col1\" class=\"data row4 col1\" >943</td>\n",
       "      <td id=\"T_fb3c3_row4_col2\" class=\"data row4 col2\" >+2.1σ</td>\n",
       "    </tr>\n",
       "    <tr>\n",
       "      <td id=\"T_fb3c3_row5_col0\" class=\"data row5 col0\" >2016-10-27</td>\n",
       "      <td id=\"T_fb3c3_row5_col1\" class=\"data row5 col1\" >931</td>\n",
       "      <td id=\"T_fb3c3_row5_col2\" class=\"data row5 col2\" >+2.1σ</td>\n",
       "    </tr>\n",
       "    <tr>\n",
       "      <td id=\"T_fb3c3_row6_col0\" class=\"data row6 col0\" >2017-11-02</td>\n",
       "      <td id=\"T_fb3c3_row6_col1\" class=\"data row6 col1\" >1036</td>\n",
       "      <td id=\"T_fb3c3_row6_col2\" class=\"data row6 col2\" >+2.4σ</td>\n",
       "    </tr>\n",
       "    <tr>\n",
       "      <td id=\"T_fb3c3_row7_col0\" class=\"data row7 col0\" >2018-07-25</td>\n",
       "      <td id=\"T_fb3c3_row7_col1\" class=\"data row7 col1\" >1017</td>\n",
       "      <td id=\"T_fb3c3_row7_col2\" class=\"data row7 col2\" >+2.4σ</td>\n",
       "    </tr>\n",
       "    <tr>\n",
       "      <td id=\"T_fb3c3_row8_col0\" class=\"data row8 col0\" >2018-07-26</td>\n",
       "      <td id=\"T_fb3c3_row8_col1\" class=\"data row8 col1\" >1146</td>\n",
       "      <td id=\"T_fb3c3_row8_col2\" class=\"data row8 col2\" >+2.8σ</td>\n",
       "    </tr>\n",
       "    <tr>\n",
       "      <td id=\"T_fb3c3_row9_col0\" class=\"data row9 col0\" >2018-07-31</td>\n",
       "      <td id=\"T_fb3c3_row9_col1\" class=\"data row9 col1\" >922</td>\n",
       "      <td id=\"T_fb3c3_row9_col2\" class=\"data row9 col2\" >+2.0σ</td>\n",
       "    </tr>\n",
       "  </tbody>\n",
       "</table>\n"
      ],
      "text/plain": [
       "<pandas.io.formats.style.Styler at 0x263f678fd70>"
      ]
     },
     "metadata": {},
     "output_type": "display_data"
    }
   ],
   "source": [
    "print(\"PUBLICATION FREQUENCY STATISTICS\")\n",
    "print(\"--------------------------------\")\n",
    "display(publication_stats.style.hide(axis='index'))\n",
    "\n",
    "print(\"\\nTOP PUBLICATION SPIKES\")\n",
    "print(\"----------------------\")\n",
    "display(spike_dates.head(10).style.hide(axis='index'))"
   ]
  },
  {
   "cell_type": "markdown",
   "id": "9bc29b44",
   "metadata": {},
   "source": [
    "#### Hourly Analysis Table"
   ]
  },
  {
   "cell_type": "code",
   "execution_count": 8,
   "id": "d26cb0e4",
   "metadata": {},
   "outputs": [
    {
     "name": "stdout",
     "output_type": "stream",
     "text": [
      "\n",
      "HOURLY PUBLICATION PATTERN\n",
      "-------------------------\n"
     ]
    },
    {
     "data": {
      "text/html": [
       "<style type=\"text/css\">\n",
       "</style>\n",
       "<table id=\"T_522a4\">\n",
       "  <thead>\n",
       "    <tr>\n",
       "      <th id=\"T_522a4_level0_col0\" class=\"col_heading level0 col0\" >Hour (UTC-4)</th>\n",
       "      <th id=\"T_522a4_level0_col1\" class=\"col_heading level0 col1\" >Publication Count</th>\n",
       "      <th id=\"T_522a4_level0_col2\" class=\"col_heading level0 col2\" >Percentage</th>\n",
       "    </tr>\n",
       "  </thead>\n",
       "  <tbody>\n",
       "    <tr>\n",
       "      <td id=\"T_522a4_row0_col0\" class=\"data row0 col0\" >0</td>\n",
       "      <td id=\"T_522a4_row0_col1\" class=\"data row0 col1\" >1351408</td>\n",
       "      <td id=\"T_522a4_row0_col2\" class=\"data row0 col2\" >96.0%</td>\n",
       "    </tr>\n",
       "    <tr>\n",
       "      <td id=\"T_522a4_row1_col0\" class=\"data row1 col0\" >1</td>\n",
       "      <td id=\"T_522a4_row1_col1\" class=\"data row1 col1\" >14</td>\n",
       "      <td id=\"T_522a4_row1_col2\" class=\"data row1 col2\" >0.0%</td>\n",
       "    </tr>\n",
       "    <tr>\n",
       "      <td id=\"T_522a4_row2_col0\" class=\"data row2 col0\" >2</td>\n",
       "      <td id=\"T_522a4_row2_col1\" class=\"data row2 col1\" >57</td>\n",
       "      <td id=\"T_522a4_row2_col2\" class=\"data row2 col2\" >0.0%</td>\n",
       "    </tr>\n",
       "    <tr>\n",
       "      <td id=\"T_522a4_row3_col0\" class=\"data row3 col0\" >3</td>\n",
       "      <td id=\"T_522a4_row3_col1\" class=\"data row3 col1\" >93</td>\n",
       "      <td id=\"T_522a4_row3_col2\" class=\"data row3 col2\" >0.0%</td>\n",
       "    </tr>\n",
       "    <tr>\n",
       "      <td id=\"T_522a4_row4_col0\" class=\"data row4 col0\" >4</td>\n",
       "      <td id=\"T_522a4_row4_col1\" class=\"data row4 col1\" >1469</td>\n",
       "      <td id=\"T_522a4_row4_col2\" class=\"data row4 col2\" >0.1%</td>\n",
       "    </tr>\n",
       "    <tr>\n",
       "      <td id=\"T_522a4_row5_col0\" class=\"data row5 col0\" >5</td>\n",
       "      <td id=\"T_522a4_row5_col1\" class=\"data row5 col1\" >1829</td>\n",
       "      <td id=\"T_522a4_row5_col2\" class=\"data row5 col2\" >0.1%</td>\n",
       "    </tr>\n",
       "    <tr>\n",
       "      <td id=\"T_522a4_row6_col0\" class=\"data row6 col0\" >6</td>\n",
       "      <td id=\"T_522a4_row6_col1\" class=\"data row6 col1\" >2476</td>\n",
       "      <td id=\"T_522a4_row6_col2\" class=\"data row6 col2\" >0.2%</td>\n",
       "    </tr>\n",
       "    <tr>\n",
       "      <td id=\"T_522a4_row7_col0\" class=\"data row7 col0\" >7</td>\n",
       "      <td id=\"T_522a4_row7_col1\" class=\"data row7 col1\" >5033</td>\n",
       "      <td id=\"T_522a4_row7_col2\" class=\"data row7 col2\" >0.4%</td>\n",
       "    </tr>\n",
       "    <tr>\n",
       "      <td id=\"T_522a4_row8_col0\" class=\"data row8 col0\" >8</td>\n",
       "      <td id=\"T_522a4_row8_col1\" class=\"data row8 col1\" >5527</td>\n",
       "      <td id=\"T_522a4_row8_col2\" class=\"data row8 col2\" >0.4%</td>\n",
       "    </tr>\n",
       "    <tr>\n",
       "      <td id=\"T_522a4_row9_col0\" class=\"data row9 col0\" >9</td>\n",
       "      <td id=\"T_522a4_row9_col1\" class=\"data row9 col1\" >5965</td>\n",
       "      <td id=\"T_522a4_row9_col2\" class=\"data row9 col2\" >0.4%</td>\n",
       "    </tr>\n",
       "    <tr>\n",
       "      <td id=\"T_522a4_row10_col0\" class=\"data row10 col0\" >10</td>\n",
       "      <td id=\"T_522a4_row10_col1\" class=\"data row10 col1\" >7669</td>\n",
       "      <td id=\"T_522a4_row10_col2\" class=\"data row10 col2\" >0.5%</td>\n",
       "    </tr>\n",
       "    <tr>\n",
       "      <td id=\"T_522a4_row11_col0\" class=\"data row11 col0\" >11</td>\n",
       "      <td id=\"T_522a4_row11_col1\" class=\"data row11 col1\" >5701</td>\n",
       "      <td id=\"T_522a4_row11_col2\" class=\"data row11 col2\" >0.4%</td>\n",
       "    </tr>\n",
       "    <tr>\n",
       "      <td id=\"T_522a4_row12_col0\" class=\"data row12 col0\" >12</td>\n",
       "      <td id=\"T_522a4_row12_col1\" class=\"data row12 col1\" >5732</td>\n",
       "      <td id=\"T_522a4_row12_col2\" class=\"data row12 col2\" >0.4%</td>\n",
       "    </tr>\n",
       "    <tr>\n",
       "      <td id=\"T_522a4_row13_col0\" class=\"data row13 col0\" >13</td>\n",
       "      <td id=\"T_522a4_row13_col1\" class=\"data row13 col1\" >2710</td>\n",
       "      <td id=\"T_522a4_row13_col2\" class=\"data row13 col2\" >0.2%</td>\n",
       "    </tr>\n",
       "    <tr>\n",
       "      <td id=\"T_522a4_row14_col0\" class=\"data row14 col0\" >14</td>\n",
       "      <td id=\"T_522a4_row14_col1\" class=\"data row14 col1\" >2075</td>\n",
       "      <td id=\"T_522a4_row14_col2\" class=\"data row14 col2\" >0.1%</td>\n",
       "    </tr>\n",
       "    <tr>\n",
       "      <td id=\"T_522a4_row15_col0\" class=\"data row15 col0\" >15</td>\n",
       "      <td id=\"T_522a4_row15_col1\" class=\"data row15 col1\" >1612</td>\n",
       "      <td id=\"T_522a4_row15_col2\" class=\"data row15 col2\" >0.1%</td>\n",
       "    </tr>\n",
       "    <tr>\n",
       "      <td id=\"T_522a4_row16_col0\" class=\"data row16 col0\" >16</td>\n",
       "      <td id=\"T_522a4_row16_col1\" class=\"data row16 col1\" >3939</td>\n",
       "      <td id=\"T_522a4_row16_col2\" class=\"data row16 col2\" >0.3%</td>\n",
       "    </tr>\n",
       "    <tr>\n",
       "      <td id=\"T_522a4_row17_col0\" class=\"data row17 col0\" >17</td>\n",
       "      <td id=\"T_522a4_row17_col1\" class=\"data row17 col1\" >2800</td>\n",
       "      <td id=\"T_522a4_row17_col2\" class=\"data row17 col2\" >0.2%</td>\n",
       "    </tr>\n",
       "    <tr>\n",
       "      <td id=\"T_522a4_row18_col0\" class=\"data row18 col0\" >18</td>\n",
       "      <td id=\"T_522a4_row18_col1\" class=\"data row18 col1\" >704</td>\n",
       "      <td id=\"T_522a4_row18_col2\" class=\"data row18 col2\" >0.1%</td>\n",
       "    </tr>\n",
       "    <tr>\n",
       "      <td id=\"T_522a4_row19_col0\" class=\"data row19 col0\" >19</td>\n",
       "      <td id=\"T_522a4_row19_col1\" class=\"data row19 col1\" >227</td>\n",
       "      <td id=\"T_522a4_row19_col2\" class=\"data row19 col2\" >0.0%</td>\n",
       "    </tr>\n",
       "    <tr>\n",
       "      <td id=\"T_522a4_row20_col0\" class=\"data row20 col0\" >20</td>\n",
       "      <td id=\"T_522a4_row20_col1\" class=\"data row20 col1\" >131</td>\n",
       "      <td id=\"T_522a4_row20_col2\" class=\"data row20 col2\" >0.0%</td>\n",
       "    </tr>\n",
       "    <tr>\n",
       "      <td id=\"T_522a4_row21_col0\" class=\"data row21 col0\" >21</td>\n",
       "      <td id=\"T_522a4_row21_col1\" class=\"data row21 col1\" >82</td>\n",
       "      <td id=\"T_522a4_row21_col2\" class=\"data row21 col2\" >0.0%</td>\n",
       "    </tr>\n",
       "    <tr>\n",
       "      <td id=\"T_522a4_row22_col0\" class=\"data row22 col0\" >22</td>\n",
       "      <td id=\"T_522a4_row22_col1\" class=\"data row22 col1\" >48</td>\n",
       "      <td id=\"T_522a4_row22_col2\" class=\"data row22 col2\" >0.0%</td>\n",
       "    </tr>\n",
       "    <tr>\n",
       "      <td id=\"T_522a4_row23_col0\" class=\"data row23 col0\" >23</td>\n",
       "      <td id=\"T_522a4_row23_col1\" class=\"data row23 col1\" >27</td>\n",
       "      <td id=\"T_522a4_row23_col2\" class=\"data row23 col2\" >0.0%</td>\n",
       "    </tr>\n",
       "  </tbody>\n",
       "</table>\n"
      ],
      "text/plain": [
       "<pandas.io.formats.style.Styler at 0x263a032d0d0>"
      ]
     },
     "metadata": {},
     "output_type": "display_data"
    }
   ],
   "source": [
    "hourly_table = pd.DataFrame({\n",
    "    'Hour (UTC-4)': hourly_pattern.index,\n",
    "    'Publication Count': hourly_pattern.values,\n",
    "    'Percentage': [f\"{(x/len(df)*100):.1f}%\" for x in hourly_pattern.values]\n",
    "})\n",
    "\n",
    "print(\"\\nHOURLY PUBLICATION PATTERN\")\n",
    "print(\"-------------------------\")\n",
    "display(hourly_table.style.hide(axis='index'))"
   ]
  }
 ],
 "metadata": {
  "kernelspec": {
   "display_name": "base",
   "language": "python",
   "name": "python3"
  },
  "language_info": {
   "codemirror_mode": {
    "name": "ipython",
    "version": 3
   },
   "file_extension": ".py",
   "mimetype": "text/x-python",
   "name": "python",
   "nbconvert_exporter": "python",
   "pygments_lexer": "ipython3",
   "version": "3.12.4"
  }
 },
 "nbformat": 4,
 "nbformat_minor": 5
}
